{
 "cells": [
  {
   "cell_type": "code",
   "execution_count": 1,
   "metadata": {},
   "outputs": [
    {
     "data": {
      "text/plain": [
       "True"
      ]
     },
     "execution_count": 1,
     "metadata": {},
     "output_type": "execute_result"
    }
   ],
   "source": [
    "import os\n",
    "from dotenv import load_dotenv\n",
    "from langgraph.graph import MessagesState, StateGraph\n",
    "from langchain_openai import ChatOpenAI\n",
    "from langchain.schema import HumanMessage, AIMessage, SystemMessage\n",
    "from langgraph.checkpoint.memory import MemorySaver\n",
    "\n",
    "load_dotenv()"
   ]
  },
  {
   "cell_type": "code",
   "execution_count": 2,
   "metadata": {},
   "outputs": [],
   "source": [
    "llm = ChatOpenAI(api_key=os.environ['OPENAI_TOKEN'])\n",
    "\n",
    "memory = MemorySaver()\n",
    "\n",
    "async def chat_llm(state: MessagesState):\n",
    "    messages = state['messages']\n",
    "    response = llm.invoke(messages)\n",
    "    messages.append(AIMessage(content=response.content))\n",
    "\n",
    "CHAT_LLM = 'chat_llm'\n",
    "\n",
    "builder = StateGraph(MessagesState)\n",
    "builder.add_node(CHAT_LLM, chat_llm)\n",
    "builder.set_entry_point(CHAT_LLM)\n",
    "builder.set_finish_point(CHAT_LLM)\n",
    "\n",
    "graph = builder.compile(checkpointer=memory)"
   ]
  },
  {
   "cell_type": "code",
   "execution_count": null,
   "metadata": {},
   "outputs": [
    {
     "name": "stdout",
     "output_type": "stream",
     "text": [
      "I don't have a favorite color as I am an artificial intelligence and do not have personal preferences."
     ]
    }
   ],
   "source": [
    "import time\n",
    "input = {\n",
    "    'messages': [\n",
    "        HumanMessage(content='What is your favorite color?')\n",
    "    ]\n",
    "}\n",
    "\n",
    "config = {'configurable': {'thread_id':'1'}}\n",
    "\n",
    "async for msg, metadata in graph.astream(input, config=config, stream_mode='messages'):\n",
    "    if msg.content:\n",
    "        print(msg.content, end='', flush=True)\n",
    "        time.sleep(.25)"
   ]
  },
  {
   "cell_type": "code",
   "execution_count": 8,
   "metadata": {},
   "outputs": [
    {
     "data": {
      "text/plain": [
       "'Nice to meet you, Charles! Is there anything I can help you with today?'"
      ]
     },
     "execution_count": 8,
     "metadata": {},
     "output_type": "execute_result"
    }
   ],
   "source": [
    "input = {\n",
    "    'messages': [\n",
    "        HumanMessage(content='My name is Charles')\n",
    "    ]\n",
    "}\n",
    "\n",
    "config = {'configurable': {'thread_id':'1'}}\n",
    "\n",
    "output = graph.invoke(input, config=config)\n",
    "output['messages'][-1].content"
   ]
  },
  {
   "cell_type": "code",
   "execution_count": 9,
   "metadata": {},
   "outputs": [
    {
     "data": {
      "text/plain": [
       "'Your name is Charles.'"
      ]
     },
     "execution_count": 9,
     "metadata": {},
     "output_type": "execute_result"
    }
   ],
   "source": [
    "input = {\n",
    "    'messages': [\n",
    "        HumanMessage(content='What is my name?')\n",
    "    ]\n",
    "}\n",
    "\n",
    "output = graph.invoke(input, config=config)\n",
    "output['messages'][-1].content"
   ]
  },
  {
   "cell_type": "code",
   "execution_count": 10,
   "metadata": {},
   "outputs": [
    {
     "data": {
      "text/plain": [
       "[HumanMessage(content='My name is Charles', additional_kwargs={}, response_metadata={}, id='899b7d68-0114-4fb9-b635-33962c778530'),\n",
       " AIMessage(content='Nice to meet you, Charles! Is there anything I can help you with today?', additional_kwargs={}, response_metadata={}, id='385663ff-d4c4-484b-8b7c-81fecdac456b'),\n",
       " HumanMessage(content='What is my name?', additional_kwargs={}, response_metadata={}, id='b0e8ad00-3d9a-46b2-9c97-0af746947e7b'),\n",
       " AIMessage(content='Your name is Charles.', additional_kwargs={}, response_metadata={})]"
      ]
     },
     "execution_count": 10,
     "metadata": {},
     "output_type": "execute_result"
    }
   ],
   "source": [
    "output['messages']"
   ]
  },
  {
   "cell_type": "code",
   "execution_count": null,
   "metadata": {},
   "outputs": [],
   "source": [
    "input = {\n",
    "    'messages': [\n",
    "        HumanMessage(content='What is my name?')\n",
    "    ]\n",
    "}\n",
    "\n",
    "config = {'configurable': {'thread_id':'2'}}\n",
    "\n",
    "output = graph.invoke(input, config=config)\n",
    "output['messages'][-1].content"
   ]
  },
  {
   "cell_type": "code",
   "execution_count": 9,
   "metadata": {},
   "outputs": [
    {
     "data": {
      "image/png": "[encoded data removed]",
      "text/plain": [
       "<IPython.core.display.Image object>"
      ]
     },
     "metadata": {},
     "output_type": "display_data"
    }
   ],
   "source": [
    "from IPython.display import Image, display\n",
    "\n",
    "try: display(Image(graph.get_graph().draw_mermaid_png()))\n",
    "except Exception: pass"
   ]
  }
 ],
 "metadata": {
  "kernelspec": {
   "display_name": ".venv",
   "language": "python",
   "name": "python3"
  },
  "language_info": {
   "codemirror_mode": {
    "name": "ipython",
    "version": 3
   },
   "file_extension": ".py",
   "mimetype": "text/x-python",
   "name": "python",
   "nbconvert_exporter": "python",
   "pygments_lexer": "ipython3",
   "version": "3.12.6"
  }
 },
 "nbformat": 4,
 "nbformat_minor": 2
}
